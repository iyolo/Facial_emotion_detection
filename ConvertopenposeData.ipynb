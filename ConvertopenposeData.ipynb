{
 "cells": [
  {
   "cell_type": "code",
   "execution_count": 8,
   "id": "187c41e1",
   "metadata": {},
   "outputs": [],
   "source": [
    "import numpy as np \n",
    "from PIL import Image\n",
    "from openpose import pyopenpose as op\n",
    "import time\n",
    "import argparse\n",
    "import pickle\n",
    "import cv2\n",
    "from tqdm.notebook import tqdm\n",
    "import os\n",
    "from scipy.sparse import coo_matrix"
   ]
  },
  {
   "cell_type": "code",
   "execution_count": 2,
   "id": "cc784e3e",
   "metadata": {},
   "outputs": [],
   "source": [
    "# Flags\n",
    "#parser = argparse.ArgumentParser()\n",
    "#parser.add_argument(\"--image_dir\", default=\"/home/yolo/network-model/organized/0\", help=\"Process a directory of images. Read all standard formats (jpg, png, bmp, etc.).\")\n",
    "#parser.add_argument(\"--no_display\", default=False, help=\"Enable to disable the visual display.\")\n",
    "#args = parser.parse_known_args()"
   ]
  },
  {
   "cell_type": "code",
   "execution_count": 3,
   "id": "9e6f5099",
   "metadata": {},
   "outputs": [
    {
     "name": "stdout",
     "output_type": "stream",
     "text": [
      "Starting OpenPose Python Wrapper...\n",
      "Auto-detecting all available GPUs... Detected 1 GPU(s), using 1 of them starting at GPU 0.\n"
     ]
    }
   ],
   "source": [
    "param = {\n",
    "            #  指向 OpenPose 的模型文件夹的路径\n",
    "            'model_folder': '/home/yolo/openpose/models/', \n",
    "            'face': True, \n",
    "            # CNN脸部检测器\n",
    "            'face_detector': 2, \n",
    "            # 不开启身体姿势估计\n",
    "            'body': 0\n",
    "        }\n",
    "\n",
    "# 创建一个 OpenPose Python 接口的实例\n",
    "wrapper = op.WrapperPython() \n",
    "# 使用前面定义的参数配置 OpenPose 实例\n",
    "wrapper.configure(param)\n",
    "# 启动 OpenPose，包括加载模型、初始化硬件资源等\n",
    "wrapper.start() \n",
    "# 创建一个 OpenPose 的 Rectangle 对象，可能用于定义脸部检测的区域。\n",
    "# 这里定义了一个左上角在 (0, 0)，宽度和高度都为 100 的矩形，图片长度是100 X 100\n",
    "face = [op.Rectangle(0.000000, 0.000000, 100.000000, 100.000000)]"
   ]
  },
  {
   "cell_type": "code",
   "execution_count": 4,
   "id": "e3f5b8e6",
   "metadata": {},
   "outputs": [],
   "source": [
    "# Read frames on directory\n",
    "#imagePaths = op.get_images_on_directory(args[0].image_dir);\n",
    "data = {}"
   ]
  },
  {
   "cell_type": "code",
   "execution_count": 5,
   "id": "eb295e20",
   "metadata": {},
   "outputs": [
    {
     "name": "stdout",
     "output_type": "stream",
     "text": [
      "/home/yolo/network-model/organized/4\n"
     ]
    },
    {
     "data": {
      "application/vnd.jupyter.widget-view+json": {
       "model_id": "44f5586d67964df8862e2275dd5e0b2e",
       "version_major": 2,
       "version_minor": 0
      },
      "text/plain": [
       "  0%|          | 0/2460 [00:00<?, ?it/s]"
      ]
     },
     "metadata": {},
     "output_type": "display_data"
    },
    {
     "name": "stdout",
     "output_type": "stream",
     "text": [
      "/home/yolo/network-model/organized/6\n"
     ]
    },
    {
     "data": {
      "application/vnd.jupyter.widget-view+json": {
       "model_id": "cf022b13fa8242819a5a6ca27993dd38",
       "version_major": 2,
       "version_minor": 0
      },
      "text/plain": [
       "  0%|          | 0/3204 [00:00<?, ?it/s]"
      ]
     },
     "metadata": {},
     "output_type": "display_data"
    },
    {
     "name": "stdout",
     "output_type": "stream",
     "text": [
      "/home/yolo/network-model/organized/1\n"
     ]
    },
    {
     "data": {
      "application/vnd.jupyter.widget-view+json": {
       "model_id": "2ed90da1253943d7b81ea28dc6736731",
       "version_major": 2,
       "version_minor": 0
      },
      "text/plain": [
       "  0%|          | 0/355 [00:00<?, ?it/s]"
      ]
     },
     "metadata": {},
     "output_type": "display_data"
    },
    {
     "name": "stdout",
     "output_type": "stream",
     "text": [
      "/home/yolo/network-model/organized/2\n"
     ]
    },
    {
     "data": {
      "application/vnd.jupyter.widget-view+json": {
       "model_id": "37c22919b59b4cc9a9ddaa4220db8487",
       "version_major": 2,
       "version_minor": 0
      },
      "text/plain": [
       "  0%|          | 0/877 [00:00<?, ?it/s]"
      ]
     },
     "metadata": {},
     "output_type": "display_data"
    },
    {
     "name": "stdout",
     "output_type": "stream",
     "text": [
      "/home/yolo/network-model/organized/5\n"
     ]
    },
    {
     "data": {
      "application/vnd.jupyter.widget-view+json": {
       "model_id": "9c02fc3f180f432691007ead1d4081eb",
       "version_major": 2,
       "version_minor": 0
      },
      "text/plain": [
       "  0%|          | 0/867 [00:00<?, ?it/s]"
      ]
     },
     "metadata": {},
     "output_type": "display_data"
    },
    {
     "name": "stdout",
     "output_type": "stream",
     "text": [
      "/home/yolo/network-model/organized/0\n"
     ]
    },
    {
     "data": {
      "application/vnd.jupyter.widget-view+json": {
       "model_id": "80c506a195be4110a68351894b405a7d",
       "version_major": 2,
       "version_minor": 0
      },
      "text/plain": [
       "  0%|          | 0/1619 [00:00<?, ?it/s]"
      ]
     },
     "metadata": {},
     "output_type": "display_data"
    },
    {
     "name": "stdout",
     "output_type": "stream",
     "text": [
      "/home/yolo/network-model/organized/3\n"
     ]
    },
    {
     "data": {
      "application/vnd.jupyter.widget-view+json": {
       "model_id": "573b3baacacb4446b1ac14764d65592b",
       "version_major": 2,
       "version_minor": 0
      },
      "text/plain": [
       "  0%|          | 0/5957 [00:00<?, ?it/s]"
      ]
     },
     "metadata": {},
     "output_type": "display_data"
    },
    {
     "name": "stdout",
     "output_type": "stream",
     "text": [
      "程序运行时间为：2347.6206452846527 秒\n"
     ]
    }
   ],
   "source": [
    "start_time = time.time()\n",
    "root_dir = '/home/yolo/network-model/organized/'  # 文件夹的路径，你需要将其替换为实际的路径\n",
    "\n",
    "for dir_name in os.listdir(root_dir):\n",
    "    dir_path  = os.path.join(root_dir, dir_name)\n",
    "    print(dir_path)\n",
    "    if not os.path.isdir(dir_path):\n",
    "        continue\n",
    "    for filename in tqdm(os.listdir(dir_path)):\n",
    "        image_path = os.path.join(dir_path, filename)\n",
    "        #print(image_path)\n",
    "        datum = op.Datum()\n",
    "        imageToProcess = cv2.imread(image_path)\n",
    "        datum.cvInputData = imageToProcess\n",
    "        # 需要进行面部检测的区域\n",
    "        datum.faceRectangles = face \n",
    "        # 将 Datum 对象放入到一个 VectorDatum 中，并调用 self.wrapper 的 emplaceAndPop 方法进行处理\n",
    "        wrapper.emplaceAndPop(op.VectorDatum([datum]))\n",
    "        # 创建指定类型为 float32 的空数组\n",
    "        #keypoint_channel = np.zeros((100, 100),dtype=np.float32)\n",
    "        keypoint_channel = np.full((100, 100), -1, dtype=np.float32)\n",
    "        # 提取路径中的部分\n",
    "        image_name = image_path.split('/organized/')[1]\n",
    "        for y, x in datum.faceKeypoints[0,:,:2]: \n",
    "            x, y = int(x), int(y)\n",
    "            keypoint_channel[x-2:x+2,y-2:y+2] = 1\n",
    "            #keypoint_channel[x,y] = 1\n",
    "        #sparse_matrix = coo_matrix(keypoint_channel)\n",
    "        #data[image_name] = sparse_matrix\n",
    "        data[image_name] = keypoint_channel\n",
    "\n",
    "# 关闭实例\n",
    "del datum\n",
    "# 关闭实例\n",
    "wrapper.stop()\n",
    "end_time = time.time()\n",
    "\n",
    "# 计算运行时间\n",
    "execution_time = end_time - start_time\n",
    "\n",
    "# 输出运行时间\n",
    "print(f\"程序运行时间为：{execution_time} 秒\")"
   ]
  },
  {
   "cell_type": "code",
   "execution_count": 6,
   "id": "a57f99a4",
   "metadata": {},
   "outputs": [],
   "source": [
    "# 保存字典和数组到文件\n",
    "with open('dataonenormal.pkl', 'wb') as f:\n",
    "    pickle.dump((data), f)"
   ]
  },
  {
   "cell_type": "code",
   "execution_count": 28,
   "id": "c5fae37f",
   "metadata": {},
   "outputs": [],
   "source": [
    "# 加载保存的数据\n",
    "with open('data.pkl', 'rb') as f:\n",
    "     loaded_data = pickle.load(f)\n"
   ]
  },
  {
   "cell_type": "code",
   "execution_count": 9,
   "id": "989c169d",
   "metadata": {},
   "outputs": [],
   "source": [
    "# 加载保存的数据\n",
    "with open('datarow.pkl', 'rb') as f:\n",
    "     loaded_data = pickle.load(f)"
   ]
  },
  {
   "cell_type": "code",
   "execution_count": 7,
   "id": "dcae6d18-10ee-4658-ab9d-46584199c679",
   "metadata": {},
   "outputs": [],
   "source": [
    "# 加载保存的数据\n",
    "with open('dataonenormal.pkl', 'rb') as f:\n",
    "     loaded_data = pickle.load(f)"
   ]
  },
  {
   "cell_type": "code",
   "execution_count": 17,
   "id": "6574f28f",
   "metadata": {},
   "outputs": [
    {
     "data": {
      "image/png": "[encoded data removed]",
      "text/plain": [
       "<Figure size 640x480 with 1 Axes>"
      ]
     },
     "metadata": {},
     "output_type": "display_data"
    }
   ],
   "source": [
    "import numpy as np\n",
    "import matplotlib.pyplot as plt\n",
    "\n",
    "\n",
    "# 绘制图像\n",
    "plt.imshow(arr, cmap='gray')\n",
    "plt.axis('off')\n",
    "plt.show()\n"
   ]
  }
 ],
 "metadata": {
  "kernelspec": {
   "display_name": "Python 3.10.6 64-bit",
   "language": "python",
   "name": "python3"
  },
  "language_info": {
   "codemirror_mode": {
    "name": "ipython",
    "version": 3
   },
   "file_extension": ".py",
   "mimetype": "text/x-python",
   "name": "python",
   "nbconvert_exporter": "python",
   "pygments_lexer": "ipython3",
   "version": "3.10.6"
  },
  "vscode": {
   "interpreter": {
    "hash": "916dbcbb3f70747c44a77c7bcd40155683ae19c65e1c03b4aa3499c5328201f1"
   }
  }
 },
 "nbformat": 4,
 "nbformat_minor": 5
}
