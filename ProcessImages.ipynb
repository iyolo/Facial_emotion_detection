{
 "cells": [
  {
   "cell_type": "code",
   "execution_count": 15,
   "id": "4978c1a1-acf8-4d71-860a-bd5004889eef",
   "metadata": {},
   "outputs": [],
   "source": [
    "import os, json, shutil\n",
    "from tqdm.notebook import tqdm\n",
    "from random import shuffle\n",
    "import numpy as np \n",
    "import torch\n",
    "from PIL import Image\n",
    "from openpose import pyopenpose as op"
   ]
  },
  {
   "cell_type": "code",
   "execution_count": 16,
   "id": "9c3b5492-a59c-46db-b3ad-4a339737aa4f",
   "metadata": {},
   "outputs": [],
   "source": [
    "# Ubuntu 22.04\n",
    "# file = open('/home/yolo/Study/network-model/data/EmoLabel/list_patition_label.txt', 'r').read().split('\\n') \n",
    "# WSL 2.0\n",
    "file = open('/home/yolo/Study/network-model/data/EmoLabel/list_patition_label.txt', 'r').read().split('\\n') \n",
    "data = [each.split(' ') for each in file if len(each)]"
   ]
  },
  {
   "cell_type": "code",
   "execution_count": 17,
   "id": "dd61d00a-192d-46b4-929f-8c1e1a7275a5",
   "metadata": {
    "tags": []
   },
   "outputs": [],
   "source": [
    "# Ubuntu 22.04\n",
    "# src = '/home/yolo/Study/network-model/data/image/aligned'\n",
    "# dst = '/home/yolo/Study/network-model/organized'\n",
    "# WSL 2.0\n",
    "src = '/home/yolo/Study/network-model/data/Image/aligned'\n",
    "dst = '/home/yolo/Study/network-model/organized'"
   ]
  },
  {
   "cell_type": "code",
   "execution_count": 18,
   "id": "b37463b6-3401-4e9d-9564-e92cb15e99a3",
   "metadata": {
    "tags": []
   },
   "outputs": [
    {
     "data": {
      "application/vnd.jupyter.widget-view+json": {
       "model_id": "f2e0e943becb45d4b1e9f5fc0fa6be75",
       "version_major": 2,
       "version_minor": 0
      },
      "text/plain": [
       "  0%|          | 0/15339 [00:00<?, ?it/s]"
      ]
     },
     "metadata": {},
     "output_type": "display_data"
    }
   ],
   "source": [
    "for filename, class_id in tqdm(data): \n",
    "    class_dst = f'{dst}/{int(class_id)-1}'\n",
    "    if not os.path.isdir(class_dst): \n",
    "        os.mkdir(class_dst) \n",
    "    shutil.copy(f'{src}/{filename.replace(\".\", \"_aligned.\")}', f'{class_dst}/{filename}')"
   ]
  },
  {
   "cell_type": "code",
   "execution_count": 19,
   "id": "cb9e2f9c-680b-4dde-b04b-681124e0a808",
   "metadata": {},
   "outputs": [],
   "source": [
    "data_names = [f'{int(class_id)-1}/{filename}' for filename, class_id in data] \n",
    "train, test = list(filter(lambda name: 'train' in name, data_names)), list(filter(lambda name: 'test' in name, data_names))\n",
    "shuffle(train)\n",
    "# train:10000 val:2271 test:3068\n",
    "train_set, val_set = train[:10000], train[10000:] \n",
    "json.dump({'train': train_set, 'val': val_set, 'test': test}, open('record.json', 'w'), indent=4)"
   ]
  },
  {
   "cell_type": "code",
   "execution_count": 20,
   "id": "2edc64dd-9a2d-44c2-ad18-5f526965b0ee",
   "metadata": {},
   "outputs": [],
   "source": [
    "# 从磁盘读取 record.json 文件\n",
    "with open('record.json', 'r') as file:\n",
    "    traindata = json.load(file)"
   ]
  },
  {
   "cell_type": "code",
   "execution_count": 21,
   "id": "1448e2ad-d988-4edd-8e4e-da3cb1cbd802",
   "metadata": {},
   "outputs": [],
   "source": [
    "trainnew = traindata['train']"
   ]
  },
  {
   "cell_type": "code",
   "execution_count": 22,
   "id": "a9db5260-02fb-40c9-962d-bb77d3950c2f",
   "metadata": {},
   "outputs": [
    {
     "name": "stdout",
     "output_type": "stream",
     "text": [
      "类别 6: 2055 个样本 0.6413857677902621\n",
      "类别 0: 1064 个样本 0.6571957998764669\n",
      "类别 3: 3868 个样本 0.6493201275809971\n",
      "类别 2: 586 个样本 0.6681870011402509\n",
      "类别 4: 1613 个样本 0.6556910569105691\n",
      "类别 1: 230 个样本 0.647887323943662\n",
      "类别 5: 584 个样本 0.6735870818915801\n"
     ]
    }
   ],
   "source": [
    "from collections import Counter\n",
    "# 统计不同类别的数量\n",
    "class_counts = Counter([filename.split('/')[0] for filename in trainnew])\n",
    "\n",
    "# 打印统计结果\n",
    "for class_id, count in class_counts.items():\n",
    "    if class_id == '0':\n",
    "        print(f\"类别 {class_id}: {count} 个样本\",count/1619)\n",
    "    elif class_id == '1':\n",
    "        print(f\"类别 {class_id}: {count} 个样本\",count/355)\n",
    "    elif class_id == '2':\n",
    "        print(f\"类别 {class_id}: {count} 个样本\",count/877)\n",
    "    elif class_id == '3':\n",
    "        print(f\"类别 {class_id}: {count} 个样本\",count/5957)\n",
    "    elif class_id == '4':\n",
    "        print(f\"类别 {class_id}: {count} 个样本\",count/2460)\n",
    "    elif class_id == '5':\n",
    "        print(f\"类别 {class_id}: {count} 个样本\",count/867)\n",
    "    elif class_id == '6':\n",
    "        print(f\"类别 {class_id}: {count} 个样本\",count/3204)\n",
    "\n",
    "   "
   ]
  },
  {
   "cell_type": "code",
   "execution_count": 23,
   "id": "b153584c-d485-4108-949d-3583f46cb326",
   "metadata": {},
   "outputs": [
    {
     "name": "stdout",
     "output_type": "stream",
     "text": [
      "类别 4 :  2460 个样本\n",
      "类别 3 :  5957 个样本\n",
      "类别 0 :  1619 个样本\n",
      "类别 5 :  867 个样本\n",
      "类别 1 :  355 个样本\n",
      "类别 2 :  877 个样本\n",
      "类别 6 :  3204 个样本\n"
     ]
    }
   ],
   "source": [
    "class_counts = Counter(item[1] for item in data)\n",
    "\n",
    "# 打印统计结果\n",
    "for class_id, count in class_counts.items():\n",
    "    print(f\"类别\",int(class_id) - 1,\": \",count,\"个样本\")"
   ]
  },
  {
   "cell_type": "code",
   "execution_count": null,
   "id": "4af8c222-49bd-4bbd-adc9-c38da5b80e4b",
   "metadata": {},
   "outputs": [],
   "source": []
  }
 ],
 "metadata": {
  "kernelspec": {
   "display_name": "Python 3 (ipykernel)",
   "language": "python",
   "name": "python3"
  },
  "language_info": {
   "codemirror_mode": {
    "name": "ipython",
    "version": 3
   },
   "file_extension": ".py",
   "mimetype": "text/x-python",
   "name": "python",
   "nbconvert_exporter": "python",
   "pygments_lexer": "ipython3",
   "version": "3.10.12"
  },
  "vscode": {
   "interpreter": {
    "hash": "916dbcbb3f70747c44a77c7bcd40155683ae19c65e1c03b4aa3499c5328201f1"
   }
  }
 },
 "nbformat": 4,
 "nbformat_minor": 5
}
